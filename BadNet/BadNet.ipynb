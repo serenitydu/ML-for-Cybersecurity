{
  "cells": [
    {
      "cell_type": "code",
      "source": [
        " !pip install -q tensorflow-model-optimization"
      ],
      "metadata": {
        "id": "vXE7S4qD1tm2"
      },
      "id": "vXE7S4qD1tm2",
      "execution_count": 1,
      "outputs": []
    },
    {
      "cell_type": "code",
      "execution_count": 2,
      "id": "0e161a58",
      "metadata": {
        "id": "0e161a58"
      },
      "outputs": [],
      "source": [
        "from tensorflow import keras\n",
        "import sys\n",
        "import os\n",
        "import h5py\n",
        "import numpy as np\n",
        "import tensorflow as tf\n",
        "import tensorflow_model_optimization as tfmot"
      ]
    },
    {
      "cell_type": "code",
      "source": [
        "from google.colab import drive\n",
        "drive.mount('/content/drive')"
      ],
      "metadata": {
        "colab": {
          "base_uri": "https://localhost:8080/"
        },
        "id": "O6BpdttfXHYZ",
        "outputId": "4f705f65-5408-4225-d909-3e3d180f65c6"
      },
      "id": "O6BpdttfXHYZ",
      "execution_count": 3,
      "outputs": [
        {
          "output_type": "stream",
          "name": "stdout",
          "text": [
            "Drive already mounted at /content/drive; to attempt to forcibly remount, call drive.mount(\"/content/drive\", force_remount=True).\n"
          ]
        }
      ]
    },
    {
      "cell_type": "code",
      "source": [
        "relative_fold = '/content/drive/MyDrive/bad_net'\n",
        "\n",
        "def join_name(name):\n",
        "    return os.path.join(relative_fold, name)"
      ],
      "metadata": {
        "id": "L7htMLbu1_g_"
      },
      "id": "L7htMLbu1_g_",
      "execution_count": 4,
      "outputs": []
    },
    {
      "cell_type": "code",
      "execution_count": 5,
      "id": "cefba697",
      "metadata": {
        "id": "cefba697"
      },
      "outputs": [],
      "source": [
        "def data_loader(filepath):\n",
        "    data = h5py.File(filepath, 'r')\n",
        "    x_data = np.array(data['data'])\n",
        "    y_data = np.array(data['label'])\n",
        "    x_data = x_data.transpose((0,2,3,1))\n",
        "    \n",
        "    return x_data, y_data"
      ]
    },
    {
      "cell_type": "code",
      "source": [
        "def eval(x_test, y_test, bd_model):\n",
        "    label_p = np.argmax(bd_model.predict(x_test), axis=1)\n",
        "    accuracy = np.mean(np.equal(label_p, y_test))*100\n",
        "\n",
        "    return accuracy"
      ],
      "metadata": {
        "id": "im_Pkw5D5KsP"
      },
      "id": "im_Pkw5D5KsP",
      "execution_count": 6,
      "outputs": []
    },
    {
      "cell_type": "code",
      "execution_count": 7,
      "id": "3f3e45f1",
      "metadata": {
        "id": "3f3e45f1"
      },
      "outputs": [],
      "source": [
        "# Singal target\n",
        "clean_validation_data_path = join_name(\"data/clean_validation_data.h5\")\n",
        "clean_test_data_path = join_name(\"data/clean_test_data.h5\")\n",
        "sunglass_poisoned_data_path = join_name(\"data/sunglasses_poisoned_data.h5\")\n",
        "anonymous_poisoned_data_path = join_name(\"data/anonymous_1_poisoned_data.h5\")\n",
        "\n",
        "# Multi-trigger Multi-target\n",
        "eyebrows_poisoned_multi_data_path = join_name(\"data/Multi-trigger Multi-target/eyebrows_poisoned_data.h5\")\n",
        "lipstick_poisoned_multi_data_path = join_name(\"data/Multi-trigger Multi-target/lipstick_poisoned_data.h5\")\n",
        "sunglass_poisoned_multi_data_path = join_name(\"data/Multi-trigger Multi-target/sunglasses_poisoned_data.h5\")"
      ]
    },
    {
      "cell_type": "code",
      "execution_count": 8,
      "id": "38af124c",
      "metadata": {
        "id": "38af124c"
      },
      "outputs": [],
      "source": [
        "clean_validation_x, clean_validation_y = data_loader(clean_validation_data_path)\n",
        "clean_test_x, clean_test_y = data_loader(clean_test_data_path)\n",
        "sunglass_poisoned_test_x, sunglass_poisoned_t_y = data_loader(sunglass_poisoned_data_path)\n",
        "anonymous_poisoned_x, anonymous_poisoned_y = data_loader(anonymous_poisoned_data_path)\n",
        "\n",
        "# multi_trigger_multi_target\n",
        "eyebrows_poisoned_x, eyebrows_poisoned_y = data_loader(eyebrows_poisoned_multi_data_path)\n",
        "lipstick_poisoned_x, lipstick_poisoned_y = data_loader(lipstick_poisoned_multi_data_path)\n",
        "sunglass_poisoned_x, sunglass_poisoned_y = data_loader(sunglass_poisoned_multi_data_path)"
      ]
    },
    {
      "cell_type": "markdown",
      "source": [
        "bd1: sunglasses_bd_net \\\\\n",
        "bd2: anonymous_1_bd_net \\\\\n",
        "bd3: anonymous_2_bd_net \\\\\n",
        "bd4: multi_trigger_multi_target_bd_net \\\\"
      ],
      "metadata": {
        "id": "Jf4XleKYINss"
      },
      "id": "Jf4XleKYINss"
    },
    {
      "cell_type": "code",
      "source": [
        "bd1_path = join_name(\"models/sunglasses_bd_net.h5\")\n",
        "bd1_weights = join_name(\"models/sunglasses_bd_weights.h5\")\n",
        "bd1 = keras.models.load_model(bd1_path)\n",
        "bd1.load_weights(bd1_weights)\n",
        "\n",
        "bd2_path = join_name(\"models/anonymous_1_bd_net.h5\")\n",
        "bd2_weights = join_name(\"models/anonymous_1_bd_weights.h5\")\n",
        "bd2 = keras.models.load_model(bd2_path)\n",
        "bd2.load_weights(bd2_weights)\n",
        "\n",
        "bd3_path = join_name(\"models/anonymous_2_bd_net.h5\")\n",
        "bd3_weights = join_name(\"models/anonymous_2_bd_weights.h5\")\n",
        "bd3 = keras.models.load_model(bd3_path)\n",
        "bd3.load_weights(bd3_weights)\n",
        "\n",
        "# multi_trigger_multi_target\n",
        "bd4_path = join_name(\"models/multi_trigger_multi_target_bd_net.h5\")\n",
        "bd4_weights = join_name(\"models/multi_trigger_multi_target_bd_weights.h5\")\n",
        "bd4 = keras.models.load_model(bd4_path)\n",
        "bd4.load_weights(bd4_weights)"
      ],
      "metadata": {
        "id": "HRUywOIw6CnY"
      },
      "id": "HRUywOIw6CnY",
      "execution_count": 9,
      "outputs": []
    },
    {
      "cell_type": "markdown",
      "source": [
        "## Simple Prune method\n",
        "https://www.tensorflow.org/model_optimization/guide/pruning/pruning_with_keras"
      ],
      "metadata": {
        "id": "g5J7dBXCCssk"
      },
      "id": "g5J7dBXCCssk"
    },
    {
      "cell_type": "code",
      "source": [
        "\n",
        "import tempfile\n",
        "def Prune(bd_model, train_data, train_labels): \n",
        "    prune_low_magnitude = tfmot.sparsity.keras.prune_low_magnitude\n",
        "\n",
        "    # Compute end step to finish pruning after 2 epochs.\n",
        "    # batch_size = 128\n",
        "    epochs = 5\n",
        "    validation_split = 0.1 # 10% of training set will be used for validation set.\n",
        "    num_data = train_data.shape[0] * (1 - validation_split)\n",
        "    end_step = np.ceil(num_data).astype(np.int32) * epochs \n",
        "    train_labels = keras.utils.to_categorical(train_labels, 1283)\n",
        "\n",
        "    # Define model for pruning.\n",
        "    pruning_params = {\n",
        "      'pruning_schedule': tfmot.sparsity.keras.PolynomialDecay(initial_sparsity=0.50,\n",
        "                                                               final_sparsity=0.80,\n",
        "                                                               begin_step=0,\n",
        "                                                               end_step=end_step)\n",
        "    }\n",
        "\n",
        "    model_for_pruning = prune_low_magnitude(bd_model, **pruning_params)\n",
        "\n",
        "    # `prune_low_magnitude` requires a recompile.\n",
        "    # learning_rate=0.001, beta_1=0.9, beta_2=0.999\n",
        "    model_for_pruning.compile(optimizer=tf.keras.optimizers.Adam(),\n",
        "              loss=tf.keras.losses.categorical_crossentropy,\n",
        "              metrics=['accuracy'])\n",
        "    \n",
        "    logdir = tempfile.mkdtemp()\n",
        "\n",
        "    callbacks = [\n",
        "      tfmot.sparsity.keras.UpdatePruningStep(),\n",
        "      tfmot.sparsity.keras.PruningSummaries(log_dir=logdir),\n",
        "    ]\n",
        "    model_for_pruning.fit(train_data, train_labels,\n",
        "                  epochs=epochs, validation_split=validation_split, \n",
        "                  callbacks=callbacks)\n",
        "\n",
        "    return model_for_pruning"
      ],
      "metadata": {
        "id": "ibzSFiqJ6Fxr"
      },
      "id": "ibzSFiqJ6Fxr",
      "execution_count": 10,
      "outputs": []
    },
    {
      "cell_type": "code",
      "source": [
        "def single_pretty_print(bd):\n",
        "    cl = eval(clean_test_x, clean_test_y, bd)\n",
        "    sp = eval(sunglass_poisoned_test_x, sunglass_poisoned_t_y, bd)\n",
        "    ap = eval(anonymous_poisoned_x, anonymous_poisoned_y, bd)\n",
        "    return [cl, sp, ap]\n",
        "\n",
        "def multiple_pretty_print(bd):\n",
        "    ep = eval(eyebrows_poisoned_x, eyebrows_poisoned_y, bd)\n",
        "    lp = eval(lipstick_poisoned_x, lipstick_poisoned_y, bd)\n",
        "    sp = eval(sunglass_poisoned_x, sunglass_poisoned_y, bd)\n",
        "    return [ep, lp, sp]"
      ],
      "metadata": {
        "id": "gq2jCvETQvaU"
      },
      "id": "gq2jCvETQvaU",
      "execution_count": 11,
      "outputs": []
    },
    {
      "cell_type": "code",
      "source": [
        "old_ac = {}\n",
        "new_ac = {}"
      ],
      "metadata": {
        "id": "CL6gkVhyWwKW"
      },
      "id": "CL6gkVhyWwKW",
      "execution_count": 12,
      "outputs": []
    },
    {
      "cell_type": "code",
      "source": [
        "old_ac['sunglasses_bd_net'] = single_pretty_print(bd1)\n",
        "new_bd1 = Prune(bd1, clean_validation_x, clean_validation_y)\n",
        "new_ac['sunglasses_bd_net'] = single_pretty_print(new_bd1)"
      ],
      "metadata": {
        "colab": {
          "base_uri": "https://localhost:8080/"
        },
        "id": "PM8kSbN6Dtum",
        "outputId": "15156cd9-3e63-42ae-9465-4fda17eccd1b"
      },
      "id": "PM8kSbN6Dtum",
      "execution_count": 13,
      "outputs": [
        {
          "output_type": "stream",
          "name": "stderr",
          "text": [
            "/usr/local/lib/python3.7/dist-packages/tensorflow_model_optimization/python/core/sparsity/keras/pruning_wrapper.py:218: UserWarning: `layer.add_variable` is deprecated and will be removed in a future version. Please use `layer.add_weight` method instead.\n",
            "  aggregation=tf.VariableAggregation.MEAN)\n",
            "/usr/local/lib/python3.7/dist-packages/tensorflow_model_optimization/python/core/sparsity/keras/pruning_wrapper.py:225: UserWarning: `layer.add_variable` is deprecated and will be removed in a future version. Please use `layer.add_weight` method instead.\n",
            "  aggregation=tf.VariableAggregation.MEAN)\n",
            "/usr/local/lib/python3.7/dist-packages/tensorflow_model_optimization/python/core/sparsity/keras/pruning_wrapper.py:238: UserWarning: `layer.add_variable` is deprecated and will be removed in a future version. Please use `layer.add_weight` method instead.\n",
            "  trainable=False)\n",
            "/usr/local/lib/python3.7/dist-packages/keras/layers/wrappers.py:64: CustomMaskWarning: Custom mask layers require a config and must override get_config. When loading, the custom mask layer must be passed to the custom_objects argument.\n",
            "  config = {'layer': generic_utils.serialize_keras_object(self.layer)}\n"
          ]
        },
        {
          "output_type": "stream",
          "name": "stdout",
          "text": [
            "Epoch 1/5\n",
            "325/325 [==============================] - 45s 123ms/step - loss: 151.1822 - accuracy: 0.6732 - val_loss: 30.2803 - val_accuracy: 0.7411\n",
            "Epoch 2/5\n",
            "325/325 [==============================] - 37s 114ms/step - loss: 10.0607 - accuracy: 0.8619 - val_loss: 15.7408 - val_accuracy: 0.7974\n",
            "Epoch 3/5\n",
            "325/325 [==============================] - 37s 113ms/step - loss: 2.7935 - accuracy: 0.9314 - val_loss: 11.9028 - val_accuracy: 0.8251\n",
            "Epoch 4/5\n",
            "325/325 [==============================] - 38s 117ms/step - loss: 1.2414 - accuracy: 0.9551 - val_loss: 11.5933 - val_accuracy: 0.8355\n",
            "Epoch 5/5\n",
            "325/325 [==============================] - 36s 112ms/step - loss: 0.7487 - accuracy: 0.9694 - val_loss: 9.9878 - val_accuracy: 0.8139\n"
          ]
        }
      ]
    },
    {
      "cell_type": "code",
      "source": [
        "old_ac['anonymous_1_bd_net'] = single_pretty_print(bd2)\n",
        "new_bd2 = Prune(bd2, clean_validation_x, clean_validation_y)\n",
        "new_ac['anonymous_1_bd_net'] = single_pretty_print(new_bd2)"
      ],
      "metadata": {
        "colab": {
          "base_uri": "https://localhost:8080/"
        },
        "id": "bH-cCreZrYrG",
        "outputId": "c909dbef-5024-4859-b35d-d960d1ebb869"
      },
      "id": "bH-cCreZrYrG",
      "execution_count": 14,
      "outputs": [
        {
          "output_type": "stream",
          "name": "stderr",
          "text": [
            "/usr/local/lib/python3.7/dist-packages/tensorflow_model_optimization/python/core/sparsity/keras/pruning_wrapper.py:218: UserWarning: `layer.add_variable` is deprecated and will be removed in a future version. Please use `layer.add_weight` method instead.\n",
            "  aggregation=tf.VariableAggregation.MEAN)\n",
            "/usr/local/lib/python3.7/dist-packages/tensorflow_model_optimization/python/core/sparsity/keras/pruning_wrapper.py:225: UserWarning: `layer.add_variable` is deprecated and will be removed in a future version. Please use `layer.add_weight` method instead.\n",
            "  aggregation=tf.VariableAggregation.MEAN)\n",
            "/usr/local/lib/python3.7/dist-packages/tensorflow_model_optimization/python/core/sparsity/keras/pruning_wrapper.py:238: UserWarning: `layer.add_variable` is deprecated and will be removed in a future version. Please use `layer.add_weight` method instead.\n",
            "  trainable=False)\n",
            "/usr/local/lib/python3.7/dist-packages/keras/layers/wrappers.py:64: CustomMaskWarning: Custom mask layers require a config and must override get_config. When loading, the custom mask layer must be passed to the custom_objects argument.\n",
            "  config = {'layer': generic_utils.serialize_keras_object(self.layer)}\n"
          ]
        },
        {
          "output_type": "stream",
          "name": "stdout",
          "text": [
            "Epoch 1/5\n",
            "325/325 [==============================] - 39s 107ms/step - loss: 100.6869 - accuracy: 0.7727 - val_loss: 29.6734 - val_accuracy: 0.8364\n",
            "Epoch 2/5\n",
            "325/325 [==============================] - 34s 105ms/step - loss: 12.1320 - accuracy: 0.9015 - val_loss: 19.9023 - val_accuracy: 0.8580\n",
            "Epoch 3/5\n",
            "325/325 [==============================] - 34s 106ms/step - loss: 4.7695 - accuracy: 0.9430 - val_loss: 16.1699 - val_accuracy: 0.8684\n",
            "Epoch 4/5\n",
            "325/325 [==============================] - 35s 107ms/step - loss: 2.5687 - accuracy: 0.9576 - val_loss: 14.9733 - val_accuracy: 0.8710\n",
            "Epoch 5/5\n",
            "325/325 [==============================] - 34s 106ms/step - loss: 2.0755 - accuracy: 0.9621 - val_loss: 14.0160 - val_accuracy: 0.8762\n"
          ]
        }
      ]
    },
    {
      "cell_type": "code",
      "source": [
        "old_ac['anonymous_2_bd_net'] = single_pretty_print(bd3)\n",
        "new_bd3 = Prune(bd3, clean_validation_x, clean_validation_y)\n",
        "new_ac['anonymous_2_bd_net'] = single_pretty_print(new_bd3)"
      ],
      "metadata": {
        "colab": {
          "base_uri": "https://localhost:8080/"
        },
        "id": "K_r6Tdr5rdml",
        "outputId": "2cea7c7d-b52d-4b3c-a5a8-e622be6e32cf"
      },
      "id": "K_r6Tdr5rdml",
      "execution_count": 15,
      "outputs": [
        {
          "output_type": "stream",
          "name": "stderr",
          "text": [
            "/usr/local/lib/python3.7/dist-packages/tensorflow_model_optimization/python/core/sparsity/keras/pruning_wrapper.py:218: UserWarning: `layer.add_variable` is deprecated and will be removed in a future version. Please use `layer.add_weight` method instead.\n",
            "  aggregation=tf.VariableAggregation.MEAN)\n",
            "/usr/local/lib/python3.7/dist-packages/tensorflow_model_optimization/python/core/sparsity/keras/pruning_wrapper.py:225: UserWarning: `layer.add_variable` is deprecated and will be removed in a future version. Please use `layer.add_weight` method instead.\n",
            "  aggregation=tf.VariableAggregation.MEAN)\n",
            "/usr/local/lib/python3.7/dist-packages/tensorflow_model_optimization/python/core/sparsity/keras/pruning_wrapper.py:238: UserWarning: `layer.add_variable` is deprecated and will be removed in a future version. Please use `layer.add_weight` method instead.\n",
            "  trainable=False)\n",
            "/usr/local/lib/python3.7/dist-packages/keras/layers/wrappers.py:64: CustomMaskWarning: Custom mask layers require a config and must override get_config. When loading, the custom mask layer must be passed to the custom_objects argument.\n",
            "  config = {'layer': generic_utils.serialize_keras_object(self.layer)}\n"
          ]
        },
        {
          "output_type": "stream",
          "name": "stdout",
          "text": [
            "Epoch 1/5\n",
            "325/325 [==============================] - 42s 116ms/step - loss: 103.9026 - accuracy: 0.7862 - val_loss: 47.4819 - val_accuracy: 0.8121\n",
            "Epoch 2/5\n",
            "325/325 [==============================] - 36s 111ms/step - loss: 16.5868 - accuracy: 0.9054 - val_loss: 29.2995 - val_accuracy: 0.8658\n",
            "Epoch 3/5\n",
            "325/325 [==============================] - 38s 117ms/step - loss: 6.3050 - accuracy: 0.9471 - val_loss: 25.5678 - val_accuracy: 0.8736\n",
            "Epoch 4/5\n",
            "325/325 [==============================] - 40s 122ms/step - loss: 5.0167 - accuracy: 0.9544 - val_loss: 25.0042 - val_accuracy: 0.8762\n",
            "Epoch 5/5\n",
            "325/325 [==============================] - 36s 110ms/step - loss: 3.5198 - accuracy: 0.9622 - val_loss: 20.6087 - val_accuracy: 0.8823\n"
          ]
        }
      ]
    },
    {
      "cell_type": "code",
      "source": [
        "old_ac['multi_trigger_multi_target_bd_net'] = single_pretty_print(bd4)\n",
        "new_bd4 = Prune(bd4, clean_validation_x, clean_validation_y)\n",
        "new_ac['multi_trigger_multi_target_bd_net'] = single_pretty_print(new_bd4)"
      ],
      "metadata": {
        "colab": {
          "base_uri": "https://localhost:8080/"
        },
        "id": "JutgNxCaC3-B",
        "outputId": "64089fc5-9dbe-4dcd-bb38-29d033e48910"
      },
      "id": "JutgNxCaC3-B",
      "execution_count": 16,
      "outputs": [
        {
          "output_type": "stream",
          "name": "stderr",
          "text": [
            "/usr/local/lib/python3.7/dist-packages/tensorflow_model_optimization/python/core/sparsity/keras/pruning_wrapper.py:218: UserWarning: `layer.add_variable` is deprecated and will be removed in a future version. Please use `layer.add_weight` method instead.\n",
            "  aggregation=tf.VariableAggregation.MEAN)\n",
            "/usr/local/lib/python3.7/dist-packages/tensorflow_model_optimization/python/core/sparsity/keras/pruning_wrapper.py:225: UserWarning: `layer.add_variable` is deprecated and will be removed in a future version. Please use `layer.add_weight` method instead.\n",
            "  aggregation=tf.VariableAggregation.MEAN)\n",
            "/usr/local/lib/python3.7/dist-packages/tensorflow_model_optimization/python/core/sparsity/keras/pruning_wrapper.py:238: UserWarning: `layer.add_variable` is deprecated and will be removed in a future version. Please use `layer.add_weight` method instead.\n",
            "  trainable=False)\n",
            "/usr/local/lib/python3.7/dist-packages/keras/layers/wrappers.py:64: CustomMaskWarning: Custom mask layers require a config and must override get_config. When loading, the custom mask layer must be passed to the custom_objects argument.\n",
            "  config = {'layer': generic_utils.serialize_keras_object(self.layer)}\n"
          ]
        },
        {
          "output_type": "stream",
          "name": "stdout",
          "text": [
            "Epoch 1/5\n",
            "325/325 [==============================] - 39s 106ms/step - loss: 102.1781 - accuracy: 0.7392 - val_loss: 35.5632 - val_accuracy: 0.8087\n",
            "Epoch 2/5\n",
            "325/325 [==============================] - 33s 103ms/step - loss: 12.9265 - accuracy: 0.8933 - val_loss: 25.7805 - val_accuracy: 0.8190\n",
            "Epoch 3/5\n",
            "325/325 [==============================] - 33s 102ms/step - loss: 5.1519 - accuracy: 0.9360 - val_loss: 22.9363 - val_accuracy: 0.8485\n",
            "Epoch 4/5\n",
            "325/325 [==============================] - 34s 105ms/step - loss: 3.3958 - accuracy: 0.9506 - val_loss: 21.7985 - val_accuracy: 0.8537\n",
            "Epoch 5/5\n",
            "325/325 [==============================] - 34s 104ms/step - loss: 3.1216 - accuracy: 0.9519 - val_loss: 20.5567 - val_accuracy: 0.8459\n"
          ]
        }
      ]
    },
    {
      "cell_type": "code",
      "source": [
        "for k,v in old_ac.items():\n",
        "    vn = new_ac[k]\n",
        "    if k == 'multi_trigger_multi_target_bd_net':\n",
        "        print(f'Before training {k} ......')\n",
        "        print(f'Eyebrows AC = {v[0]:.2f}%')\n",
        "        print(f'Lipstick AC = {v[1]:.2f}%')\n",
        "        print(f'Sunglass AC = {v[2]:.2f}%')\n",
        "\n",
        "        print(f'After training {k} ......')\n",
        "        print(f'Eyebrows AC = {vn[0]:.2f}%')\n",
        "        print(f'Lipstick AC = {vn[1]:.2f}%')\n",
        "        print(f'Sunglass AC = {vn[2]:.2f}%')\n",
        "    else:\n",
        "        print(f'Before training {k} ......')\n",
        "        print(f'Clean test AC = {v[0]:.2f}%')\n",
        "        print(f'Sunglass AC = {v[1]:.2f}%')\n",
        "        print(f'Anonymous 1 AC = {v[2]:.2f}%')\n",
        "\n",
        "        print(f'After training {k} ......')\n",
        "        print(f'Clean test AC = {vn[0]:.2f}%')\n",
        "        print(f'Sunglass AC = {vn[1]:.2f}%')\n",
        "        print(f'Anonymous 1 AC = {vn[2]:.2f}%')\n"
      ],
      "metadata": {
        "colab": {
          "base_uri": "https://localhost:8080/"
        },
        "id": "HknEO8ijYoYT",
        "outputId": "8d770742-c992-4df8-9063-07de1f70ce78"
      },
      "id": "HknEO8ijYoYT",
      "execution_count": 17,
      "outputs": [
        {
          "output_type": "stream",
          "name": "stdout",
          "text": [
            "Before training sunglasses_bd_net ......\n",
            "Clean test AC = 42.36%\n",
            "Sunglass AC = 99.95%\n",
            "Anonymous 1 AC = 1.30%\n",
            "After training sunglasses_bd_net ......\n",
            "Clean test AC = 84.59%\n",
            "Sunglass AC = 49.63%\n",
            "Anonymous 1 AC = 0.16%\n",
            "Before training anonymous_1_bd_net ......\n",
            "Clean test AC = 56.23%\n",
            "Sunglass AC = 0.00%\n",
            "Anonymous 1 AC = 91.48%\n",
            "After training anonymous_1_bd_net ......\n",
            "Clean test AC = 87.14%\n",
            "Sunglass AC = 0.00%\n",
            "Anonymous 1 AC = 82.00%\n",
            "Before training anonymous_2_bd_net ......\n",
            "Clean test AC = 67.63%\n",
            "Sunglass AC = 0.00%\n",
            "Anonymous 1 AC = 0.00%\n",
            "After training anonymous_2_bd_net ......\n",
            "Clean test AC = 88.82%\n",
            "Sunglass AC = 0.00%\n",
            "Anonymous 1 AC = 0.00%\n",
            "Before training multi_trigger_multi_target_bd_net ......\n",
            "Eyebrows AC = 43.20%\n",
            "Lipstick AC = 0.00%\n",
            "Sunglass AC = 0.00%\n",
            "After training multi_trigger_multi_target_bd_net ......\n",
            "Eyebrows AC = 86.89%\n",
            "Lipstick AC = 0.00%\n",
            "Sunglass AC = 0.01%\n"
          ]
        }
      ]
    },
    {
      "cell_type": "markdown",
      "source": [
        "## Save Model"
      ],
      "metadata": {
        "id": "FW3M9QR14YqK"
      },
      "id": "FW3M9QR14YqK"
    },
    {
      "cell_type": "code",
      "source": [
        "import os\n",
        "\n",
        "generate_folder = \"new_model\"\n",
        "if not os.path.exists(generate_folder):\n",
        "    os.mkdir(generate_folder)\n",
        "\n",
        "new_bd1.save('new_model/sunglasses_bd_net.h5')\n",
        "new_bd2.save('new_model/anonymous_1_bd_net.h5')\n",
        "new_bd3.save('new_model/anonymous_2_bd_net.h5')\n",
        "new_bd4.save('new_model/multi_trigger_multi_target_bd_net.h5')"
      ],
      "metadata": {
        "colab": {
          "base_uri": "https://localhost:8080/"
        },
        "id": "hQZPvDBF4X9F",
        "outputId": "95dea684-90e3-4a3a-ca74-5a97ce0fcc5b"
      },
      "id": "hQZPvDBF4X9F",
      "execution_count": 18,
      "outputs": [
        {
          "output_type": "stream",
          "name": "stderr",
          "text": [
            "/usr/local/lib/python3.7/dist-packages/keras/layers/wrappers.py:64: CustomMaskWarning: Custom mask layers require a config and must override get_config. When loading, the custom mask layer must be passed to the custom_objects argument.\n",
            "  config = {'layer': generic_utils.serialize_keras_object(self.layer)}\n"
          ]
        }
      ]
    },
    {
      "cell_type": "markdown",
      "source": [
        "## Data Augment + Prune"
      ],
      "metadata": {
        "id": "UQhiwUiFVUSA"
      },
      "id": "UQhiwUiFVUSA"
    },
    {
      "cell_type": "code",
      "source": [
        "generate_folder = \"new_model_data_aug\"\n",
        "if not os.path.exists(generate_folder):\n",
        "    os.mkdir(generate_folder)"
      ],
      "metadata": {
        "id": "aWHhC0V86pV-"
      },
      "id": "aWHhC0V86pV-",
      "execution_count": 19,
      "outputs": []
    },
    {
      "cell_type": "code",
      "source": [
        "def data_agument(X, Y):\n",
        "    a_log = np.zeros((X.shape))\n",
        "    a_exp = np.zeros((X.shape))\n",
        "    a_noise = np.zeros((X.shape))\n",
        "\n",
        "    for ind in range(X.shape[0]):\n",
        "        a_log[ind] = (np.log2(X[ind])/20)*255 # reduces contrast\n",
        "        a_exp[ind] = (np.exp(X[ind]/32)) # increases contrast\n",
        "        no = np.random.normal(0, 0.05, size=X[ind].shape)\n",
        "        a_noise[ind] = X[ind] + no\n",
        "\n",
        "    X_aug = np.concatenate((X, a_log, a_exp, a_noise))\n",
        "    Y_aug = np.concatenate((Y, Y, Y, Y))\n",
        "\n",
        "    return X_aug, Y_aug"
      ],
      "metadata": {
        "id": "NsvBDfZOVYLz"
      },
      "id": "NsvBDfZOVYLz",
      "execution_count": 20,
      "outputs": []
    },
    {
      "cell_type": "code",
      "source": [
        "clean_validation_x, clean_validation_y = data_agument(clean_validation_x, clean_validation_y)"
      ],
      "metadata": {
        "colab": {
          "base_uri": "https://localhost:8080/"
        },
        "id": "iN5MHXdWVzVA",
        "outputId": "ce1a61a5-9a55-47bf-cb4b-15d2f5cb279d"
      },
      "id": "iN5MHXdWVzVA",
      "execution_count": 21,
      "outputs": [
        {
          "output_type": "stream",
          "name": "stderr",
          "text": [
            "/usr/local/lib/python3.7/dist-packages/ipykernel_launcher.py:7: RuntimeWarning: divide by zero encountered in log2\n",
            "  import sys\n"
          ]
        }
      ]
    },
    {
      "cell_type": "code",
      "source": [
        "# old_ac is the same as previous experiment.\n",
        "# old_ac = {}\n",
        "new_ac = {}"
      ],
      "metadata": {
        "id": "cpDiHxFskSDF"
      },
      "id": "cpDiHxFskSDF",
      "execution_count": 22,
      "outputs": []
    },
    {
      "cell_type": "code",
      "source": [
        "bd = keras.models.load_model(bd1_path)\n",
        "bd.load_weights(bd1_weights)"
      ],
      "metadata": {
        "id": "N5ggqklFb6sV"
      },
      "id": "N5ggqklFb6sV",
      "execution_count": 23,
      "outputs": []
    },
    {
      "cell_type": "code",
      "source": [
        "# old_ac['sunglasses_bd_net'] = single_pretty_print(bd1)\n",
        "new_bd = Prune(bd, clean_validation_x, clean_validation_y)\n",
        "new_ac['sunglasses_bd_net'] = single_pretty_print(new_bd)\n",
        "\n",
        "new_bd.save('new_model_data_aug/sunglasses_bd_net.h5')"
      ],
      "metadata": {
        "colab": {
          "base_uri": "https://localhost:8080/"
        },
        "id": "gO3WwoIwkZcv",
        "outputId": "82d3cdcc-1bb2-4818-a127-143f7c325e67"
      },
      "id": "gO3WwoIwkZcv",
      "execution_count": 24,
      "outputs": [
        {
          "output_type": "stream",
          "name": "stderr",
          "text": [
            "/usr/local/lib/python3.7/dist-packages/tensorflow_model_optimization/python/core/sparsity/keras/pruning_wrapper.py:218: UserWarning: `layer.add_variable` is deprecated and will be removed in a future version. Please use `layer.add_weight` method instead.\n",
            "  aggregation=tf.VariableAggregation.MEAN)\n",
            "/usr/local/lib/python3.7/dist-packages/tensorflow_model_optimization/python/core/sparsity/keras/pruning_wrapper.py:225: UserWarning: `layer.add_variable` is deprecated and will be removed in a future version. Please use `layer.add_weight` method instead.\n",
            "  aggregation=tf.VariableAggregation.MEAN)\n",
            "/usr/local/lib/python3.7/dist-packages/tensorflow_model_optimization/python/core/sparsity/keras/pruning_wrapper.py:238: UserWarning: `layer.add_variable` is deprecated and will be removed in a future version. Please use `layer.add_weight` method instead.\n",
            "  trainable=False)\n",
            "/usr/local/lib/python3.7/dist-packages/keras/layers/wrappers.py:64: CustomMaskWarning: Custom mask layers require a config and must override get_config. When loading, the custom mask layer must be passed to the custom_objects argument.\n",
            "  config = {'layer': generic_utils.serialize_keras_object(self.layer)}\n"
          ]
        },
        {
          "output_type": "stream",
          "name": "stdout",
          "text": [
            "Epoch 1/5\n",
            "1300/1300 [==============================] - 141s 105ms/step - loss: nan - accuracy: 8.6603e-04 - val_loss: nan - val_accuracy: 4.3299e-04\n",
            "Epoch 2/5\n",
            "1300/1300 [==============================] - 134s 103ms/step - loss: nan - accuracy: 8.1792e-04 - val_loss: nan - val_accuracy: 4.3299e-04\n",
            "Epoch 3/5\n",
            "1300/1300 [==============================] - 136s 104ms/step - loss: nan - accuracy: 8.1792e-04 - val_loss: nan - val_accuracy: 4.3299e-04\n",
            "Epoch 4/5\n",
            "1300/1300 [==============================] - 134s 103ms/step - loss: nan - accuracy: 8.1792e-04 - val_loss: nan - val_accuracy: 4.3299e-04\n",
            "Epoch 5/5\n",
            "1300/1300 [==============================] - 134s 103ms/step - loss: nan - accuracy: 8.1792e-04 - val_loss: nan - val_accuracy: 4.3299e-04\n"
          ]
        }
      ]
    },
    {
      "cell_type": "markdown",
      "source": [
        "## Note\n",
        "Due to Colab RAM limit, we can not keep 4 models in the RAM. So we reuse the variable name `bd` and `new_bd`.\n",
        "\n"
      ],
      "metadata": {
        "id": "Cp2K6bV9yOTu"
      },
      "id": "Cp2K6bV9yOTu"
    },
    {
      "cell_type": "code",
      "source": [
        "bd = keras.models.load_model(bd2_path)\n",
        "bd.load_weights(bd2_weights)\n",
        "\n",
        "new_bd = Prune(bd1, clean_validation_x, clean_validation_y)\n",
        "new_ac['anonymous_1_bd_net'] = single_pretty_print(new_bd)\n",
        "new_bd.save('new_model_data_aug/anonymous_1_bd_net.h5')"
      ],
      "metadata": {
        "colab": {
          "base_uri": "https://localhost:8080/"
        },
        "id": "BZ5tBmZDk6p2",
        "outputId": "8c1f1f1e-e8ae-4c70-a923-ebf9beb64ae7"
      },
      "id": "BZ5tBmZDk6p2",
      "execution_count": 16,
      "outputs": [
        {
          "output_type": "stream",
          "name": "stderr",
          "text": [
            "/usr/local/lib/python3.7/dist-packages/tensorflow_model_optimization/python/core/sparsity/keras/pruning_wrapper.py:218: UserWarning: `layer.add_variable` is deprecated and will be removed in a future version. Please use `layer.add_weight` method instead.\n",
            "  aggregation=tf.VariableAggregation.MEAN)\n",
            "/usr/local/lib/python3.7/dist-packages/tensorflow_model_optimization/python/core/sparsity/keras/pruning_wrapper.py:225: UserWarning: `layer.add_variable` is deprecated and will be removed in a future version. Please use `layer.add_weight` method instead.\n",
            "  aggregation=tf.VariableAggregation.MEAN)\n",
            "/usr/local/lib/python3.7/dist-packages/tensorflow_model_optimization/python/core/sparsity/keras/pruning_wrapper.py:238: UserWarning: `layer.add_variable` is deprecated and will be removed in a future version. Please use `layer.add_weight` method instead.\n",
            "  trainable=False)\n",
            "/usr/local/lib/python3.7/dist-packages/keras/layers/wrappers.py:64: CustomMaskWarning: Custom mask layers require a config and must override get_config. When loading, the custom mask layer must be passed to the custom_objects argument.\n",
            "  config = {'layer': generic_utils.serialize_keras_object(self.layer)}\n"
          ]
        },
        {
          "output_type": "stream",
          "name": "stdout",
          "text": [
            "Epoch 1/5\n",
            "1300/1300 [==============================] - 142s 106ms/step - loss: nan - accuracy: 0.0011 - val_loss: nan - val_accuracy: 4.3299e-04\n",
            "Epoch 2/5\n",
            "1300/1300 [==============================] - 141s 109ms/step - loss: nan - accuracy: 8.1792e-04 - val_loss: nan - val_accuracy: 4.3299e-04\n",
            "Epoch 3/5\n",
            "1300/1300 [==============================] - 135s 104ms/step - loss: nan - accuracy: 8.1792e-04 - val_loss: nan - val_accuracy: 4.3299e-04\n",
            "Epoch 4/5\n",
            "1300/1300 [==============================] - 136s 105ms/step - loss: nan - accuracy: 8.1792e-04 - val_loss: nan - val_accuracy: 4.3299e-04\n",
            "Epoch 5/5\n",
            "1300/1300 [==============================] - 136s 105ms/step - loss: nan - accuracy: 8.1792e-04 - val_loss: nan - val_accuracy: 4.3299e-04\n"
          ]
        }
      ]
    },
    {
      "cell_type": "code",
      "source": [
        "bd = keras.models.load_model(bd3_path)\n",
        "bd.load_weights(bd3_weights)\n",
        "\n",
        "new_bd = Prune(bd, clean_validation_x, clean_validation_y)\n",
        "new_ac['anonymous_2_bd_net'] = single_pretty_print(new_bd)\n",
        "new_bd.save('new_model_data_aug/anonymous_2_bd_net.h5')"
      ],
      "metadata": {
        "id": "ucfOBQHtk8KK"
      },
      "id": "ucfOBQHtk8KK",
      "execution_count": null,
      "outputs": []
    },
    {
      "cell_type": "code",
      "source": [
        "bd = keras.models.load_model(bd4_path)\n",
        "bd.load_weights(bd4_weights)\n",
        "\n",
        "new_bd = Prune(bd, clean_validation_x, clean_validation_y)\n",
        "new_ac['multi_trigger_multi_target_bd_net'] = single_pretty_print(new_bd)\n",
        "new_bd.save('new_model_data_aug/multi_trigger_multi_target_bd_net.h5')"
      ],
      "metadata": {
        "id": "yGaxiIHGk_e_"
      },
      "id": "yGaxiIHGk_e_",
      "execution_count": null,
      "outputs": []
    },
    {
      "cell_type": "code",
      "source": [
        "print('Result for data augment + prune')\n",
        "\n",
        "for k,v in old_ac.items():\n",
        "    vn = new_ac[k]\n",
        "    if k == 'multi_trigger_multi_target_bd_net':\n",
        "        print(f'Before training {k} ......')\n",
        "        print(f'Eyebrows AC = {v[0]:.2f}%')\n",
        "        print(f'Lipstick AC = {v[1]:.2f}%')\n",
        "        print(f'Sunglass AC = {v[2]:.2f}%')\n",
        "\n",
        "        print(f'After training {k} ......')\n",
        "        print(f'Eyebrows AC = {vn[0]:.2f}%')\n",
        "        print(f'Lipstick AC = {vn[1]:.2f}%')\n",
        "        print(f'Sunglass AC = {vn[2]:.2f}%')\n",
        "    else:\n",
        "        print(f'Before training {k} ......')\n",
        "        print(f'Clean test AC = {v[0]:.2f}%')\n",
        "        print(f'Sunglass AC = {v[1]:.2f}%')\n",
        "        print(f'Anonymous 1 AC = {v[2]:.2f}%')\n",
        "\n",
        "        print(f'After training {k} ......')\n",
        "        print(f'Clean test AC = {vn[0]:.2f}%')\n",
        "        print(f'Sunglass AC = {vn[1]:.2f}%')\n",
        "        print(f'Anonymous 1 AC = {vn[2]:.2f}%')"
      ],
      "metadata": {
        "colab": {
          "base_uri": "https://localhost:8080/"
        },
        "id": "-YjcytA-lDND",
        "outputId": "5e6b11a6-ecf8-4f6d-daa1-12e834b140cf"
      },
      "id": "-YjcytA-lDND",
      "execution_count": 17,
      "outputs": [
        {
          "output_type": "stream",
          "name": "stdout",
          "text": [
            "Result for data augment + prune\n",
            "Before training sunglasses_bd_net ......\n",
            "Clean test AC = 42.36%\n",
            "Sunglass AC = 99.95%\n",
            "Anonymous 1 AC = 1.30%\n",
            "After training sunglasses_bd_net ......\n",
            "Clean test AC = 0.08%\n",
            "Sunglass AC = 100.00%\n",
            "Anonymous 1 AC = 100.00%\n",
            "Before training anonymous_1_bd_net ......\n",
            "Clean test AC = 56.23%\n",
            "Sunglass AC = 0.00%\n",
            "Anonymous 1 AC = 91.48%\n",
            "After training anonymous_1_bd_net ......\n",
            "Clean test AC = 0.08%\n",
            "Sunglass AC = 100.00%\n",
            "Anonymous 1 AC = 100.00%\n"
          ]
        }
      ]
    }
  ],
  "metadata": {
    "kernelspec": {
      "display_name": "Python 3",
      "language": "python",
      "name": "python3"
    },
    "language_info": {
      "codemirror_mode": {
        "name": "ipython",
        "version": 3
      },
      "file_extension": ".py",
      "mimetype": "text/x-python",
      "name": "python",
      "nbconvert_exporter": "python",
      "pygments_lexer": "ipython3",
      "version": "3.6.9"
    },
    "colab": {
      "name": "BadNet.ipynb",
      "provenance": []
    }
  },
  "nbformat": 4,
  "nbformat_minor": 5
}