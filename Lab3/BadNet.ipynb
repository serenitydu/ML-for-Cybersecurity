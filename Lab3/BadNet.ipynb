{
 "cells": [
  {
   "cell_type": "code",
   "execution_count": 1,
   "id": "0223899e",
   "metadata": {},
   "outputs": [
    {
     "name": "stderr",
     "output_type": "stream",
     "text": [
      "Using TensorFlow backend.\n"
     ]
    }
   ],
   "source": [
    "import keras\n",
    "import sys\n",
    "import os\n",
    "import h5py\n",
    "import numpy as np\n",
    "from numpy.linalg import norm"
   ]
  },
  {
   "cell_type": "code",
   "execution_count": 2,
   "id": "0cf7041e",
   "metadata": {},
   "outputs": [],
   "source": [
    "clean_data_filename = 'data/cl/valid.h5'\n",
    "poisoned_data_filename = 'data/bd/bd_valid.h5'\n",
    "model_filename = 'models/bd_net.h5'\n",
    "weights_filename = 'models/bd_weights.h5'"
   ]
  },
  {
   "cell_type": "code",
   "execution_count": 3,
   "id": "27435381",
   "metadata": {},
   "outputs": [],
   "source": [
    "def data_loader(filepath):\n",
    "    data = h5py.File(filepath, 'r')\n",
    "    x_data = np.array(data['data'])\n",
    "    y_data = np.array(data['label'])\n",
    "    x_data = x_data.transpose((0,2,3,1))\n",
    "    \n",
    "    return x_data, y_data"
   ]
  },
  {
   "cell_type": "code",
   "execution_count": 4,
   "id": "61ee4e4e",
   "metadata": {},
   "outputs": [],
   "source": [
    "def eval(x_test, y_test, bd_model):\n",
    "    label_p = np.argmax(bd_model.predict(x_test), axis=1)\n",
    "    accuracy = np.mean(np.equal(label_p, y_test))*100\n",
    "\n",
    "    return accuracy"
   ]
  },
  {
   "cell_type": "code",
   "execution_count": 5,
   "id": "bf683d0b",
   "metadata": {},
   "outputs": [
    {
     "name": "stdout",
     "output_type": "stream",
     "text": [
      "WARNING:tensorflow:From /home/serenity_ubuntu/anaconda3/envs/cyberml/lib/python3.6/site-packages/tensorflow_core/python/ops/resource_variable_ops.py:1630: calling BaseResourceVariable.__init__ (from tensorflow.python.ops.resource_variable_ops) with constraint is deprecated and will be removed in a future version.\n",
      "Instructions for updating:\n",
      "If using Keras pass *_constraint arguments to layers.\n",
      "WARNING:tensorflow:From /home/serenity_ubuntu/anaconda3/envs/cyberml/lib/python3.6/site-packages/keras/backend/tensorflow_backend.py:4070: The name tf.nn.max_pool is deprecated. Please use tf.nn.max_pool2d instead.\n",
      "\n",
      "WARNING:tensorflow:From /home/serenity_ubuntu/anaconda3/envs/cyberml/lib/python3.6/site-packages/keras/backend/tensorflow_backend.py:422: The name tf.global_variables is deprecated. Please use tf.compat.v1.global_variables instead.\n",
      "\n"
     ]
    }
   ],
   "source": [
    "cl_x_test, cl_y_test = data_loader(clean_data_filename)\n",
    "bd_x_test, bd_y_test = data_loader(poisoned_data_filename)\n",
    "\n",
    "bd_model = keras.models.load_model(model_filename)\n",
    "bd_model.load_weights(weights_filename)"
   ]
  },
  {
   "cell_type": "code",
   "execution_count": 6,
   "id": "818430cd",
   "metadata": {},
   "outputs": [],
   "source": [
    "layer_num = 5\n",
    "prune_weights = bd_model.layers[layer_num].get_weights()\n",
    "weights_shape, channels = prune_weights[0].shape[0:-1], prune_weights[0].shape[-1]"
   ]
  },
  {
   "cell_type": "code",
   "execution_count": 7,
   "id": "cfcfd28d",
   "metadata": {},
   "outputs": [],
   "source": [
    "def my_norm(weight_array):\n",
    "    \n",
    "    return np.sum(norm(weight_array,ord=1,axis=2))"
   ]
  },
  {
   "cell_type": "code",
   "execution_count": 8,
   "id": "1a77f215",
   "metadata": {},
   "outputs": [
    {
     "name": "stdout",
     "output_type": "stream",
     "text": [
      "[17 24 53 50 38  0 14 41 48 31 34 33 49 13 45 25 15 12 30 47 37 26 36 55\n",
      " 40 27  9 44  2 59 35 39 23 56 10 11  8 51 20  7 18 57  5 52  6  4 32 54\n",
      " 22 58 43  1 46 16 28 19 29 42  3 21]\n"
     ]
    }
   ],
   "source": [
    "norms = []\n",
    "for i in range(channels):\n",
    "#     print(prune_weights[0][:,:,:,i].shape)\n",
    "    norms.append(my_norm(prune_weights[0][:,:,:,i]))\n",
    "    \n",
    "sorted_ranks = np.argsort(norms)\n",
    "print(sorted_ranks)"
   ]
  },
  {
   "cell_type": "code",
   "execution_count": 9,
   "id": "e4911a07",
   "metadata": {},
   "outputs": [
    {
     "name": "stdout",
     "output_type": "stream",
     "text": [
      "Original Clean Classification accuracy: 98.64899974019225\n",
      "Original Attack Success Rate: 100.0\n"
     ]
    }
   ],
   "source": [
    "# Original accuracy and attack success rate\n",
    "origin_ac = eval(cl_x_test, cl_y_test, bd_model)\n",
    "origin_asr = eval(bd_x_test, bd_y_test, bd_model)\n",
    "print('Original Clean Classification accuracy:', origin_ac)\n",
    "print('Original Attack Success Rate:', origin_asr)"
   ]
  },
  {
   "cell_type": "code",
   "execution_count": 10,
   "id": "6aa44f0c",
   "metadata": {
    "scrolled": true
   },
   "outputs": [],
   "source": [
    "ASR = []\n",
    "CA = []\n",
    "cnt = 0\n",
    "\n",
    "for i in sorted_ranks:\n",
    "    prune_weights[0][:, :, :, i] = np.zeros(weights_shape)\n",
    "    bd_model.layers[5].set_weights(prune_weights)\n",
    "    \n",
    "    clean_accuracy = eval(cl_x_test, cl_y_test, bd_model)       \n",
    "    CA.append(clean_accuracy)\n",
    "#     print('Clean Classification accuracy:', clean_accuracy)\n",
    "\n",
    "    asr = eval(bd_x_test, bd_y_test, bd_model)\n",
    "    ASR.append(asr)\n",
    "#     print('Attack Success Rate:', asr)"
   ]
  },
  {
   "cell_type": "code",
   "execution_count": 11,
   "id": "c7dbf615",
   "metadata": {},
   "outputs": [
    {
     "name": "stdout",
     "output_type": "stream",
     "text": [
      "After pruning 1 channels, channel=17, current accuracy=98.64899974019225, ASR=100.0.\n",
      "After pruning 2 channels, channel=24, current accuracy=98.64899974019225, ASR=100.0.\n",
      "After pruning 3 channels, channel=53, current accuracy=98.64899974019225, ASR=100.0.\n",
      "After pruning 4 channels, channel=50, current accuracy=98.64899974019225, ASR=100.0.\n",
      "After pruning 5 channels, channel=38, current accuracy=98.64899974019225, ASR=100.0.\n",
      "After pruning 6 channels, channel=0, current accuracy=98.64899974019225, ASR=100.0.\n",
      "After pruning 7 channels, channel=14, current accuracy=98.64899974019225, ASR=100.0.\n",
      "After pruning 8 channels, channel=41, current accuracy=98.64899974019225, ASR=100.0.\n",
      "After pruning 9 channels, channel=48, current accuracy=98.64899974019225, ASR=100.0.\n",
      "After pruning 10 channels, channel=31, current accuracy=98.64899974019225, ASR=100.0.\n",
      "After pruning 11 channels, channel=34, current accuracy=98.64899974019225, ASR=100.0.\n",
      "After pruning 12 channels, channel=33, current accuracy=98.64899974019225, ASR=100.0.\n",
      "After pruning 13 channels, channel=49, current accuracy=98.64899974019225, ASR=100.0.\n",
      "After pruning 14 channels, channel=13, current accuracy=98.64899974019225, ASR=100.0.\n",
      "After pruning 15 channels, channel=45, current accuracy=98.64899974019225, ASR=100.0.\n",
      "After pruning 16 channels, channel=25, current accuracy=98.64899974019225, ASR=100.0.\n",
      "After pruning 17 channels, channel=15, current accuracy=98.64899974019225, ASR=100.0.\n",
      "After pruning 18 channels, channel=12, current accuracy=98.64899974019225, ASR=100.0.\n",
      "After pruning 19 channels, channel=30, current accuracy=98.64899974019225, ASR=100.0.\n",
      "After pruning 20 channels, channel=47, current accuracy=98.64899974019225, ASR=100.0.\n",
      "After pruning 21 channels, channel=37, current accuracy=98.64899974019225, ASR=100.0.\n",
      "After pruning 22 channels, channel=26, current accuracy=98.64899974019225, ASR=100.0.\n",
      "After pruning 23 channels, channel=36, current accuracy=98.64899974019225, ASR=100.0.\n",
      "After pruning 24 channels, channel=55, current accuracy=98.64899974019225, ASR=100.0.\n",
      "After pruning 25 channels, channel=40, current accuracy=98.64899974019225, ASR=100.0.\n",
      "After pruning 26 channels, channel=27, current accuracy=98.64899974019225, ASR=100.0.\n",
      "After pruning 27 channels, channel=9, current accuracy=98.64899974019225, ASR=100.0.\n",
      "After pruning 28 channels, channel=44, current accuracy=98.64899974019225, ASR=100.0.\n",
      "After pruning 29 channels, channel=2, current accuracy=98.64899974019225, ASR=100.0.\n",
      "After pruning 30 channels, channel=59, current accuracy=98.64899974019225, ASR=100.0.\n",
      "After pruning 31 channels, channel=35, current accuracy=90.88074824629774, ASR=100.0.\n",
      "After pruning 32 channels, channel=39, current accuracy=90.88074824629774, ASR=100.0.\n",
      "After pruning 33 channels, channel=23, current accuracy=90.88074824629774, ASR=100.0.\n",
      "After pruning 34 channels, channel=56, current accuracy=86.89702953148004, ASR=100.0.\n",
      "After pruning 35 channels, channel=10, current accuracy=83.2337403654629, ASR=100.0.\n",
      "After pruning 36 channels, channel=11, current accuracy=76.10634796916949, ASR=98.56239715943535.\n",
      "After pruning 37 channels, channel=8, current accuracy=74.16645016021477, ASR=97.28933922230883.\n",
      "After pruning 38 channels, channel=51, current accuracy=74.15778990213909, ASR=97.27201870615745.\n",
      "After pruning 39 channels, channel=20, current accuracy=74.0538668052308, ASR=97.13345457694639.\n",
      "After pruning 40 channels, channel=7, current accuracy=61.01151814324067, ASR=98.89148696631159.\n",
      "After pruning 41 channels, channel=18, current accuracy=38.278340694552696, ASR=95.47068502641378.\n",
      "After pruning 42 channels, channel=57, current accuracy=32.27678184809907, ASR=86.48999740192258.\n",
      "After pruning 43 channels, channel=5, current accuracy=26.959383389625014, ASR=77.855720100459.\n",
      "After pruning 44 channels, channel=52, current accuracy=12.340867757859183, ASR=84.20368926994024.\n",
      "After pruning 45 channels, channel=6, current accuracy=12.30622672555642, ASR=84.28163159262147.\n",
      "After pruning 46 channels, channel=4, current accuracy=9.742790335151987, ASR=81.14661816922144.\n",
      "After pruning 47 channels, channel=32, current accuracy=9.829392915908894, ASR=81.17259894344852.\n",
      "After pruning 48 channels, channel=54, current accuracy=6.131462717588984, ASR=80.2546115874253.\n",
      "After pruning 49 channels, channel=22, current accuracy=6.114142201437603, ASR=80.04676539360874.\n",
      "After pruning 50 channels, channel=58, current accuracy=5.5685459426690915, ASR=80.21997055512254.\n",
      "After pruning 51 channels, channel=43, current accuracy=5.152853555035939, ASR=80.00346410323029.\n",
      "After pruning 52 channels, channel=1, current accuracy=4.304148263618256, ASR=80.58370139430156.\n",
      "After pruning 53 channels, channel=46, current accuracy=2.719321035766866, ASR=84.29029185069716.\n",
      "After pruning 54 channels, channel=16, current accuracy=2.3036286481337145, ASR=0.277128258422101.\n",
      "After pruning 55 channels, channel=28, current accuracy=1.4116220663375767, ASR=0.33775006495193555.\n",
      "After pruning 56 channels, channel=19, current accuracy=1.2730579371265265, ASR=0.060621806529834586.\n",
      "After pruning 57 channels, channel=29, current accuracy=0.4936347103143674, ASR=0.11258335498397852.\n",
      "After pruning 58 channels, channel=42, current accuracy=0.19918593574088506, ASR=0.05196154845414394.\n",
      "After pruning 59 channels, channel=3, current accuracy=0.10392309690828788, ASR=0.0.\n",
      "After pruning 60 channels, channel=21, current accuracy=0.0779423226812159, ASR=0.0.\n"
     ]
    }
   ],
   "source": [
    "for i,v in enumerate(zip(CA,ASR)):\n",
    "#     if v[1] < 100.0:\n",
    "        print(f'After pruning {i+1} channels, channel={sorted_ranks[i]}, current accuracy={v[0]}, ASR={v[1]}.')"
   ]
  },
  {
   "cell_type": "code",
   "execution_count": 19,
   "id": "1044e44e",
   "metadata": {},
   "outputs": [
    {
     "data": {
      "text/plain": [
       "<matplotlib.legend.Legend at 0x7fd7be1c6940>"
      ]
     },
     "execution_count": 19,
     "metadata": {},
     "output_type": "execute_result"
    },
    {
     "data": {
      "image/png": "[encoded data removed]",
      "text/plain": [
       "<Figure size 432x288 with 1 Axes>"
      ]
     },
     "metadata": {
      "needs_background": "light"
     },
     "output_type": "display_data"
    }
   ],
   "source": [
    "import matplotlib.pyplot as plt\n",
    "\n",
    "x = np.arange(60)\n",
    "plt.plot(x, ASR, 'r', x, CA, 'b')\n",
    "plt.legend(['ASR', 'CA'])"
   ]
  },
  {
   "cell_type": "code",
   "execution_count": 13,
   "id": "256eb210",
   "metadata": {},
   "outputs": [],
   "source": [
    "# By looking at the result, we can easily find that the CA drops faster than ASR. CA drops to 90% after pruning 31 channels.\n",
    "# We also noticed that pruning models once the validation accuracy drops atleast X% for X={2, 4, 10} wold not decrease ASR.\n",
    "# Let's assume that:\n",
    "# 2% drops reflects to prune 31 channels\n",
    "# 4% drops reflects to prune 32 channels\n",
    "# 10% drops reflects to prune 34 channels\n",
    "# 30% drops reflects to prune 40 channels\n",
    "\n",
    "origin_bd_model = keras.models.clone_model(bd_model)\n",
    "origin_bd_model.load_weights(weights_filename)\n",
    "bd_prune_weights = origin_bd_model.layers[layer_num].get_weights()\n",
    "\n",
    "# 2% drops\n",
    "prune_layer_weights, prune_layer_bias = bd_prune_weights[0], bd_prune_weights[1]\n",
    "gd_model_2 = keras.models.clone_model(origin_bd_model)\n",
    "gd_model_2.set_weights(origin_bd_model.get_weights())\n",
    "for i in range(31):\n",
    "    prune_layer_weights[:, :, :, sorted_ranks[i]] = np.zeros(weights_shape)\n",
    "gd_model_2.layers[5].set_weights([prune_layer_weights, prune_layer_bias])\n",
    "\n",
    "\n",
    "# 4% drops\n",
    "prune_layer_weights, prune_layer_bias = bd_prune_weights[0], bd_prune_weights[1]\n",
    "gd_model_4 = keras.models.clone_model(origin_bd_model)\n",
    "gd_model_4.set_weights(origin_bd_model.get_weights())\n",
    "for i in range(32):\n",
    "    prune_layer_weights[:, :, :, sorted_ranks[i]] = np.zeros(weights_shape)\n",
    "gd_model_4.layers[5].set_weights([prune_layer_weights, prune_layer_bias])\n",
    "\n",
    "\n",
    "# 10% drops\n",
    "prune_layer_weights, prune_layer_bias = bd_prune_weights[0], bd_prune_weights[1]\n",
    "gd_model_10 = keras.models.clone_model(origin_bd_model)\n",
    "gd_model_10.set_weights(origin_bd_model.get_weights())\n",
    "for i in range(34):\n",
    "    prune_layer_weights[:, :, :, sorted_ranks[i]] = np.zeros(weights_shape)\n",
    "gd_model_10.layers[5].set_weights([prune_layer_weights, prune_layer_bias])\n",
    "\n",
    "# 30% drops\n",
    "prune_layer_weights, prune_layer_bias = bd_prune_weights[0], bd_prune_weights[1]\n",
    "gd_model_30 = keras.models.clone_model(origin_bd_model)\n",
    "gd_model_30.set_weights(origin_bd_model.get_weights())\n",
    "for i in range(40):\n",
    "    prune_layer_weights[:, :, :, sorted_ranks[i]] = np.zeros(weights_shape)\n",
    "gd_model_30.layers[5].set_weights([prune_layer_weights, prune_layer_bias])"
   ]
  },
  {
   "cell_type": "code",
   "execution_count": 14,
   "id": "071ffb52",
   "metadata": {},
   "outputs": [
    {
     "name": "stdout",
     "output_type": "stream",
     "text": [
      "98.64899974019225, 90.88074824629774, 90.88074824629774, 86.89702953148004\n"
     ]
    }
   ],
   "source": [
    "# bd_x_test, bd_y_test\n",
    "\n",
    "ac_0 = eval(cl_x_test, cl_y_test, origin_bd_model)\n",
    "ac_2 = eval(cl_x_test, cl_y_test, gd_model_2)\n",
    "ac_4 = eval(cl_x_test, cl_y_test, gd_model_4)\n",
    "ac_10 = eval(cl_x_test, cl_y_test, gd_model_10)\n",
    "ac_30 = eval(cl_x_test, cl_y_test, gd_model_30)\n",
    "print(f'{ac_0}, {ac_2}, {ac_4}, {ac_10}')"
   ]
  },
  {
   "cell_type": "code",
   "execution_count": 15,
   "id": "ed516d9b",
   "metadata": {},
   "outputs": [],
   "source": [
    "new_class = 1283"
   ]
  },
  {
   "cell_type": "code",
   "execution_count": 16,
   "id": "1f80aec8",
   "metadata": {},
   "outputs": [],
   "source": [
    "class gd_model:\n",
    "    def __init__(self, bd_model, prune_model):\n",
    "        self.bd = bd_model\n",
    "        self.gd = prune_model  \n",
    "        \n",
    "    def new_eval(self, x_test, y_test):\n",
    "        label_bd = np.argmax(self.bd.predict(x_test), axis=1)\n",
    "        label_gd = np.argmax(self.gd.predict(x_test), axis=1)\n",
    "        final_label = np.argmax(self.gd.predict(x_test), axis=1)\n",
    "        \n",
    "        for i, v in enumerate(zip(label_bd, label_gd)):\n",
    "            if v[0] != v[1]:\n",
    "                final_label[i] = new_class\n",
    "                \n",
    "        accuracy = np.mean(np.equal(final_label, y_test))*100\n",
    "\n",
    "        return accuracy"
   ]
  },
  {
   "cell_type": "code",
   "execution_count": 20,
   "id": "7a9a6d6c",
   "metadata": {},
   "outputs": [
    {
     "name": "stdout",
     "output_type": "stream",
     "text": [
      "2% drop prune model CA = 90.70754308478392\n",
      "2% drop prune model ASR = 100.0\n",
      "4% drop prune model CA = 90.70754308478392\n",
      "4% drop prune model ASR = 100.0\n",
      "10% drop prune model CA = 86.71516411189053\n",
      "10% drop prune model ASR = 100.0\n",
      "30% drop prune model CA = 60.83831298172686\n",
      "30% drop prune model ASR = 98.89148696631159\n"
     ]
    }
   ],
   "source": [
    "fix_2 = gd_model(origin_bd_model, gd_model_2)\n",
    "asr_2 = fix_2.new_eval(bd_x_test, bd_y_test)\n",
    "ca_2 = fix_2.new_eval(cl_x_test, cl_y_test)\n",
    "print(f'2% drop prune model CA = {ca_2}')\n",
    "print(f'2% drop prune model ASR = {asr_2}')\n",
    "\n",
    "fix_4 = gd_model(origin_bd_model, gd_model_4)\n",
    "asr_4 = fix_4.new_eval(bd_x_test, bd_y_test)\n",
    "ca_4 = fix_4.new_eval(cl_x_test, cl_y_test)\n",
    "print(f'4% drop prune model CA = {ca_4}')\n",
    "print(f'4% drop prune model ASR = {asr_4}')\n",
    "\n",
    "fix_10 = gd_model(origin_bd_model, gd_model_10)\n",
    "asr_10 = fix_10.new_eval(bd_x_test, bd_y_test)\n",
    "ca_10 = fix_10.new_eval(cl_x_test, cl_y_test)\n",
    "print(f'10% drop prune model CA = {ca_10}')\n",
    "print(f'10% drop prune model ASR = {asr_10}')\n",
    "\n",
    "fix_30 = gd_model(origin_bd_model, gd_model_30)\n",
    "asr_30 = fix_30.new_eval(bd_x_test, bd_y_test)\n",
    "ca_30 = fix_30.new_eval(cl_x_test, cl_y_test)\n",
    "print(f'30% drop prune model CA = {ca_30}')\n",
    "print(f'30% drop prune model ASR = {asr_30}')"
   ]
  },
  {
   "cell_type": "code",
   "execution_count": 18,
   "id": "4aa51c78",
   "metadata": {},
   "outputs": [],
   "source": [
    "# This experinemnt shows that using models with validation accuracy drops doesn't work."
   ]
  },
  {
   "cell_type": "code",
   "execution_count": null,
   "id": "1861a597",
   "metadata": {},
   "outputs": [],
   "source": []
  }
 ],
 "metadata": {
  "kernelspec": {
   "display_name": "Python 3",
   "language": "python",
   "name": "python3"
  },
  "language_info": {
   "codemirror_mode": {
    "name": "ipython",
    "version": 3
   },
   "file_extension": ".py",
   "mimetype": "text/x-python",
   "name": "python",
   "nbconvert_exporter": "python",
   "pygments_lexer": "ipython3",
   "version": "3.6.9"
  }
 },
 "nbformat": 4,
 "nbformat_minor": 5
}
